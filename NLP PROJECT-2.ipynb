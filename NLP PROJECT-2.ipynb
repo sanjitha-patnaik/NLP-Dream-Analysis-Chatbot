{
 "cells": [
  {
   "cell_type": "markdown",
   "id": "138cf3f2-717d-4315-a6e6-20a8a67bd95e",
   "metadata": {},
   "source": [
    "# __NLP ASSIGNMENT__"
   ]
  },
  {
   "cell_type": "code",
   "execution_count": 5,
   "id": "b7891012-957c-45c5-8d83-0e0f0a8b7b35",
   "metadata": {},
   "outputs": [
    {
     "name": "stdout",
     "output_type": "stream",
     "text": [
      "Greetings, dream voyager! Ready to embark on a quirky quest into the whimsical world of dreams?\n"
     ]
    },
    {
     "name": "stdin",
     "output_type": "stream",
     "text": [
      "Spill the cosmic beans about your dream, or type 'exit' to escape this dreamy conversation:  I saw my entire family in my dream\n"
     ]
    },
    {
     "name": "stdout",
     "output_type": "stream",
     "text": [
      "\n",
      "Hold onto your cosmic hat! Let me decode the quirkiness of your dream...\n",
      "\n",
      "Voila! I sensed some quirky elements in your dream: family\n",
      "\n",
      "In a nutshell, your dream might be related to: Dreams featuring family and home often reflect a deep-seated connection to one's personal relationships and sense of belonging. These dreams may evoke feelings of comfort, security, or occasionally, unresolved emotions. The specific details and emotions experienced in the dream can vary widely, offering insight into your subconscious thoughts and emotions related to their familial and domestic life.\n",
      "\n",
      "==================================================\n"
     ]
    },
    {
     "name": "stdin",
     "output_type": "stream",
     "text": [
      "Spill the cosmic beans about your dream, or type 'exit' to escape this dreamy conversation:  A stranger was challenging me to a fight.\n"
     ]
    },
    {
     "name": "stdout",
     "output_type": "stream",
     "text": [
      "\n",
      "Hold onto your cosmic hat! Let me decode the quirkiness of your dream...\n",
      "\n",
      "Voila! I sensed some quirky elements in your dream: fight, stranger\n",
      "\n",
      "In a nutshell, your dream might be related to: Dreams involving fights and quarrels often reflect inner conflicts, unresolved emotions, or stress in waking life. These intense dream scenarios may symbolize the dreamer's struggle to confront challenges, assert themselves, or address underlying tensions, providing a subconscious outlet for processing and coping with these issues., Dreams in which you encounter strangers and unknown places often reflect the subconscious mind exploring new aspects of your psyche. These experiences may signify a desire for change, self-discovery, or a need to confront unfamiliar challenges in waking life. The presence of strangers and unfamiliar settings in dreams can be a symbolic representation of personal growth and the exploration of untapped potential.\n",
      "\n",
      "==================================================\n"
     ]
    },
    {
     "name": "stdin",
     "output_type": "stream",
     "text": [
      "Spill the cosmic beans about your dream, or type 'exit' to escape this dreamy conversation:  I felt trapped in a never ending loop\n"
     ]
    },
    {
     "name": "stdout",
     "output_type": "stream",
     "text": [
      "\n",
      "Hold onto your cosmic hat! Let me decode the quirkiness of your dream...\n",
      "\n",
      "Voila! I sensed some quirky elements in your dream: loop, trapped\n",
      "\n",
      "In a nutshell, your dream might be related to: Dreaming of a scenario in a never-ending loop may suggest feelings of being stuck or repeating patterns in your waking life. It could reflect a need to break free from monotony, address unresolved issues, or indicate a sense of being trapped in a cycle. Interpretation depends on the specific details and emotions within the dream., Dreams of being trapped often reflect feelings of constraint or helplessness in waking life. These dreams may symbolize unresolved challenges or a desire for freedom. The act of finding an exit in these dreams may signify a subconscious search for solutions or a need to break free from real-life limitations.\n",
      "\n",
      "==================================================\n"
     ]
    },
    {
     "name": "stdin",
     "output_type": "stream",
     "text": [
      "Spill the cosmic beans about your dream, or type 'exit' to escape this dreamy conversation:  exit\n"
     ]
    },
    {
     "name": "stdout",
     "output_type": "stream",
     "text": [
      "Dream on, cosmic explorer! Until our quirky paths cross again.\n"
     ]
    }
   ],
   "source": [
    "import pandas as pd\n",
    "from sklearn.model_selection import train_test_split\n",
    "from sklearn.feature_extraction.text import CountVectorizer\n",
    "from sklearn.naive_bayes import MultinomialNB\n",
    "from sklearn.pipeline import make_pipeline\n",
    "\n",
    "def train_text_classification_model(data_path):\n",
    "    # Load the dataset from CSV\n",
    "    df = pd.read_csv(data_path)\n",
    "\n",
    "    # Assume your CSV has two columns: \"Dream\" and \"Meaning\"\n",
    "    X = df[\"Dream\"]\n",
    "    y = df[\"Meaning\"]\n",
    "\n",
    "    # Split the data into training and testing sets\n",
    "    X_train, X_test, y_train, y_test = train_test_split(X, y, test_size=0.2, random_state=42)\n",
    "\n",
    "    # Create a simple text classification model\n",
    "    model = make_pipeline(CountVectorizer(), MultinomialNB())\n",
    "    model.fit(X_train, y_train)\n",
    "\n",
    "    return model\n",
    "\n",
    "def get_user_input():\n",
    "    return input(\"Spill the cosmic beans about your dream, or type 'exit' to escape this dreamy conversation: \")\n",
    "\n",
    "def classify_dream(model, user_dream):\n",
    "    # Unraveling the dreamy riddles...\n",
    "    vectorizer = model.named_steps['countvectorizer']\n",
    "    user_dream_representation = vectorizer.transform([user_dream])\n",
    "    nonzero_indices = user_dream_representation.nonzero()[1]\n",
    "    keywords = [vectorizer.get_feature_names_out()[index] for index in nonzero_indices]\n",
    "\n",
    "    # Deciphering the quirky codes...\n",
    "    keyword_meanings = {keyword: model.predict([keyword])[0] for keyword in keywords}\n",
    "\n",
    "    # Crafting a quirky summary of the dream universe...\n",
    "    all_meanings = set(keyword_meanings.values())\n",
    "    summary = \", \".join(all_meanings)\n",
    "\n",
    "    return keywords, summary\n",
    "\n",
    "def main():\n",
    "    print(\"Greetings, dream voyager! Ready to embark on a quirky quest into the whimsical world of dreams?\")\n",
    "\n",
    "    data_path = \"Dreamzzzzz.csv\"\n",
    "    model = train_text_classification_model(data_path)\n",
    "\n",
    "    while True:\n",
    "        user_dream = get_user_input()\n",
    "\n",
    "        if user_dream.lower() == 'exit':\n",
    "            print(\"Dream on, cosmic explorer! Until our quirky paths cross again.\")\n",
    "            break\n",
    "\n",
    "        keywords, summary = classify_dream(model, user_dream)\n",
    "\n",
    "        # Unveiling the quirky enigmas...\n",
    "        print(\"\\nHold onto your cosmic hat! Let me decode the quirkiness of your dream...\")\n",
    "\n",
    "        if not keywords:\n",
    "            print(\"Oopsie-daisy! Couldn't catch any specific themes in your description. How about sprinkling more quirk?\")\n",
    "        else:\n",
    "            print(\"\\nVoila! I sensed some quirky elements in your dream: {}\".format(\", \".join(keywords)))\n",
    "            print(\"\\nIn a nutshell, your dream might be related to: {}\".format(summary))\n",
    "\n",
    "        print(\"\\n\" + \"=\" * 50)  # Adding a separator for an extra dash of quirk\n",
    "\n",
    "if __name__ == \"__main__\":\n",
    "    main()"
   ]
  },
  {
   "cell_type": "markdown",
   "id": "0c30b825-ac4b-4ef0-8a29-e29533bf1bb2",
   "metadata": {},
   "source": [
    " __The results from above show how the model can concatenate multiple keywords and displays the description of the dream.This highlights that the model \n",
    "considers each important element mentioned by the users and gives a thorough interpretation.__"
   ]
  }
 ],
 "metadata": {
  "kernelspec": {
   "display_name": "Python 3 (ipykernel)",
   "language": "python",
   "name": "python3"
  },
  "language_info": {
   "codemirror_mode": {
    "name": "ipython",
    "version": 3
   },
   "file_extension": ".py",
   "mimetype": "text/x-python",
   "name": "python",
   "nbconvert_exporter": "python",
   "pygments_lexer": "ipython3",
   "version": "3.11.5"
  }
 },
 "nbformat": 4,
 "nbformat_minor": 5
}
